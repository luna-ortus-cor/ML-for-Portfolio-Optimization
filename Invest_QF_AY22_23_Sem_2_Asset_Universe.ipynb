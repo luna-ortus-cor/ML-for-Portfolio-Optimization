{
  "nbformat": 4,
  "nbformat_minor": 0,
  "metadata": {
    "colab": {
      "provenance": []
    },
    "kernelspec": {
      "name": "python3",
      "display_name": "Python 3"
    },
    "language_info": {
      "name": "python"
    }
  },
  "cells": [
    {
      "cell_type": "code",
      "execution_count": null,
      "metadata": {
        "id": "c1JX1OoPQ6u2"
      },
      "outputs": [],
      "source": [
        "import yfinance as yf\n",
        "import pandas as pd\n",
        "from google.colab import files"
      ]
    },
    {
      "cell_type": "code",
      "source": [
        "!pip install yfinance"
      ],
      "metadata": {
        "colab": {
          "base_uri": "https://localhost:8080/"
        },
        "id": "-o9HX5TSuMaP",
        "outputId": "01d24818-eefb-44b6-f967-9c29b438f546"
      },
      "execution_count": null,
      "outputs": [
        {
          "output_type": "stream",
          "name": "stdout",
          "text": [
            "Looking in indexes: https://pypi.org/simple, https://us-python.pkg.dev/colab-wheels/public/simple/\n",
            "Collecting yfinance\n",
            "  Downloading yfinance-0.2.9-py2.py3-none-any.whl (55 kB)\n",
            "\u001b[2K     \u001b[90m━━━━━━━━━━━━━━━━━━━━━━━━━━━━━━━━━━━━━━━━\u001b[0m \u001b[32m55.9/55.9 KB\u001b[0m \u001b[31m4.5 MB/s\u001b[0m eta \u001b[36m0:00:00\u001b[0m\n",
            "\u001b[?25hCollecting cryptography>=3.3.2\n",
            "  Downloading cryptography-39.0.0-cp36-abi3-manylinux_2_28_x86_64.whl (4.2 MB)\n",
            "\u001b[2K     \u001b[90m━━━━━━━━━━━━━━━━━━━━━━━━━━━━━━━━━━━━━━━━\u001b[0m \u001b[32m4.2/4.2 MB\u001b[0m \u001b[31m66.9 MB/s\u001b[0m eta \u001b[36m0:00:00\u001b[0m\n",
            "\u001b[?25hCollecting beautifulsoup4>=4.11.1\n",
            "  Downloading beautifulsoup4-4.11.2-py3-none-any.whl (129 kB)\n",
            "\u001b[2K     \u001b[90m━━━━━━━━━━━━━━━━━━━━━━━━━━━━━━━━━━━━━━\u001b[0m \u001b[32m129.4/129.4 KB\u001b[0m \u001b[31m12.3 MB/s\u001b[0m eta \u001b[36m0:00:00\u001b[0m\n",
            "\u001b[?25hCollecting requests>=2.26\n",
            "  Downloading requests-2.28.2-py3-none-any.whl (62 kB)\n",
            "\u001b[2K     \u001b[90m━━━━━━━━━━━━━━━━━━━━━━━━━━━━━━━━━━━━━━━━\u001b[0m \u001b[32m62.8/62.8 KB\u001b[0m \u001b[31m6.4 MB/s\u001b[0m eta \u001b[36m0:00:00\u001b[0m\n",
            "\u001b[?25hCollecting html5lib>=1.1\n",
            "  Downloading html5lib-1.1-py2.py3-none-any.whl (112 kB)\n",
            "\u001b[2K     \u001b[90m━━━━━━━━━━━━━━━━━━━━━━━━━━━━━━━━━━━━━━\u001b[0m \u001b[32m112.2/112.2 KB\u001b[0m \u001b[31m11.6 MB/s\u001b[0m eta \u001b[36m0:00:00\u001b[0m\n",
            "\u001b[?25hRequirement already satisfied: appdirs>=1.4.4 in /usr/local/lib/python3.8/dist-packages (from yfinance) (1.4.4)\n",
            "Requirement already satisfied: multitasking>=0.0.7 in /usr/local/lib/python3.8/dist-packages (from yfinance) (0.0.11)\n",
            "Collecting frozendict>=2.3.4\n",
            "  Downloading frozendict-2.3.4-cp38-cp38-manylinux_2_17_x86_64.manylinux2014_x86_64.whl (110 kB)\n",
            "\u001b[2K     \u001b[90m━━━━━━━━━━━━━━━━━━━━━━━━━━━━━━━━━━━━━━\u001b[0m \u001b[32m111.0/111.0 KB\u001b[0m \u001b[31m10.7 MB/s\u001b[0m eta \u001b[36m0:00:00\u001b[0m\n",
            "\u001b[?25hRequirement already satisfied: pandas>=1.3.0 in /usr/local/lib/python3.8/dist-packages (from yfinance) (1.3.5)\n",
            "Requirement already satisfied: lxml>=4.9.1 in /usr/local/lib/python3.8/dist-packages (from yfinance) (4.9.2)\n",
            "Requirement already satisfied: numpy>=1.16.5 in /usr/local/lib/python3.8/dist-packages (from yfinance) (1.21.6)\n",
            "Requirement already satisfied: pytz>=2022.5 in /usr/local/lib/python3.8/dist-packages (from yfinance) (2022.7)\n",
            "Collecting soupsieve>1.2\n",
            "  Downloading soupsieve-2.3.2.post1-py3-none-any.whl (37 kB)\n",
            "Requirement already satisfied: cffi>=1.12 in /usr/local/lib/python3.8/dist-packages (from cryptography>=3.3.2->yfinance) (1.15.1)\n",
            "Requirement already satisfied: webencodings in /usr/local/lib/python3.8/dist-packages (from html5lib>=1.1->yfinance) (0.5.1)\n",
            "Requirement already satisfied: six>=1.9 in /usr/local/lib/python3.8/dist-packages (from html5lib>=1.1->yfinance) (1.15.0)\n",
            "Requirement already satisfied: python-dateutil>=2.7.3 in /usr/local/lib/python3.8/dist-packages (from pandas>=1.3.0->yfinance) (2.8.2)\n",
            "Requirement already satisfied: urllib3<1.27,>=1.21.1 in /usr/local/lib/python3.8/dist-packages (from requests>=2.26->yfinance) (1.24.3)\n",
            "Requirement already satisfied: certifi>=2017.4.17 in /usr/local/lib/python3.8/dist-packages (from requests>=2.26->yfinance) (2022.12.7)\n",
            "Requirement already satisfied: charset-normalizer<4,>=2 in /usr/local/lib/python3.8/dist-packages (from requests>=2.26->yfinance) (2.1.1)\n",
            "Requirement already satisfied: idna<4,>=2.5 in /usr/local/lib/python3.8/dist-packages (from requests>=2.26->yfinance) (2.10)\n",
            "Requirement already satisfied: pycparser in /usr/local/lib/python3.8/dist-packages (from cffi>=1.12->cryptography>=3.3.2->yfinance) (2.21)\n",
            "Installing collected packages: soupsieve, requests, html5lib, frozendict, cryptography, beautifulsoup4, yfinance\n",
            "  Attempting uninstall: requests\n",
            "    Found existing installation: requests 2.25.1\n",
            "    Uninstalling requests-2.25.1:\n",
            "      Successfully uninstalled requests-2.25.1\n",
            "  Attempting uninstall: html5lib\n",
            "    Found existing installation: html5lib 1.0.1\n",
            "    Uninstalling html5lib-1.0.1:\n",
            "      Successfully uninstalled html5lib-1.0.1\n",
            "  Attempting uninstall: beautifulsoup4\n",
            "    Found existing installation: beautifulsoup4 4.6.3\n",
            "    Uninstalling beautifulsoup4-4.6.3:\n",
            "      Successfully uninstalled beautifulsoup4-4.6.3\n",
            "Successfully installed beautifulsoup4-4.11.2 cryptography-39.0.0 frozendict-2.3.4 html5lib-1.1 requests-2.28.2 soupsieve-2.3.2.post1 yfinance-0.2.9\n"
          ]
        }
      ]
    },
    {
      "cell_type": "code",
      "source": [
        "etfs = ['SPY', 'GLD', 'DIA', 'QQQ', 'UVXY', 'LABU', 'EEM', 'HYG', 'FXI', 'IWM', 'EWZ', 'GDX', 'ARKK', 'EFA', 'SLV', 'LQD', 'TLT', 'IEMG', 'GOVT', 'KOLD']\n",
        "\n",
        "gics = ['XLE', 'XLF', 'XLK', 'XLV', 'XLU', 'XLY', 'XLP', 'XLI', 'XLC', 'XLB', 'XLRE']\n",
        "\n",
        "cryptos = ['BTC-USD', 'ETH-USD', 'USDT-USD', 'USDC-USD', 'BNB-USD', 'BUSD-USD', 'XRP-USD', 'ADA-USD', 'SOL-USD', 'DOT-USD', 'DOGE-USD', 'MATIC-USD', 'SHIB-USD', 'DAI-USD', 'AVAX-USD', 'TRX-USD', 'WBTC-USD', 'ETC-USD', 'UNI-USD', 'LEO-USD']\n",
        "\n",
        "energy = ['XOM', 'CVX', 'SHEL', 'TTE', 'COP', 'EQNR', 'BP', 'PBR-A', 'PBR', 'ENB', 'EOG', 'OXY', 'CNQ', 'EPD', 'PXD', 'SLB', 'MPC', 'TRP', 'DVN', 'VLO']\n",
        "\n",
        "financials = ['BRK-A', 'BRK-B', 'V', 'JPM', 'MA', 'BAC', 'WFC', 'MS', 'SCHW', 'RY', 'SPGI', 'HSBC', 'TD', 'BX', 'AXP', 'GS', 'PYPL', 'HDB', 'BLK', 'C']\n",
        "\n",
        "materials = ['BHP', 'LIN', 'RIO', 'VALE', 'APD', 'NTR', 'SHW', 'ECL', 'CTVA', 'FCX', 'SCCO', 'NUE', 'DOW', 'ALB', 'NEM', 'FNV', 'PPG', 'IFF', 'SQM', 'DD']\n",
        "\n",
        "comms = ['GOOG', 'GOOGL', 'META', 'DIS', 'TMUS', 'VZ', 'CMCSA', 'T', 'NFLX', 'CHTR', 'ATVI', 'NTES', 'AMX', 'RELX', 'BIDU', 'BCE', 'EA', 'VOD', 'TWTR', 'TU']\n",
        "\n",
        "conscycl = ['AMZN', 'TSLA', 'HD', 'BABA', 'TM', 'MCD', 'NKE', 'LOW', 'SBUX', 'JD', 'PDD', 'TJX', 'ABNB', 'BKNG', 'F', 'GM', 'MAR', 'CMG', 'MELI', 'ORLY']\n",
        "\n",
        "consdef = ['WMT', 'PG', 'KO', 'PEP', 'COST', 'PM', 'UL', 'DEO', 'BTI', 'EL', 'BUD', 'MDLZ', 'MO', 'TGT', 'CL', 'DG', 'KDP', 'ADM', 'MNST', 'STZ']\n",
        "\n",
        "health = ['UNH', 'JNJ', 'LLY', 'MRK', 'ABBV', 'PFE', 'TMO', 'DHR', 'NVS', 'AZN', 'ABT', 'NVO', 'BMY', 'CVS', 'AMGN', 'ELV', 'MDT', 'SNY', 'CI', 'SYK']\n",
        "\n",
        "industrials = ['UPS', 'RTX', 'HON', 'BA', 'CAT', 'LMT', 'DE', 'UNP', 'ADP',  'CP', 'CNI', 'GE', 'NOC', 'WM', 'CSX', 'MMM', 'ITW', 'GD', 'NSC', 'ETN']\n",
        "\n",
        "realestate = ['PLD', 'AMT', 'EQIX', 'CCI', 'PSA',  'O', 'SBAC', 'WELL', 'DLR', 'SPG', 'VICI', 'CSGP', 'AVB', 'EQR', 'EXR', 'CBRE', 'ARE', 'WY', 'INVH', 'DRE']\n",
        "\n",
        "tech = ['AAPL', 'MSFT', 'NVDA', 'TSM', 'ASML', 'AVGO', 'ORCL', 'CSCO', 'ACN', 'ADBE', 'CRM', 'TXN', 'QCOM', 'AMD', 'INTC', 'INTU', 'IBM', 'SAP', 'SONY', 'NOW']\n",
        "\n",
        "utilities = ['NEE', 'DUK', 'SO', 'D', 'SRE', 'AEP', 'EXC', 'NGG', 'XEL', 'ED', 'PEG', 'WEC', 'PCGU', 'ES', 'PCG', 'AWK', 'FTS', 'BIP', 'EIX', 'FE']\n",
        "\n",
        "forex = ['EUR=X', 'JPY=X', 'GBP=X', 'AUD=X', 'CAD=X', 'CHF=X', 'CNY=X', 'HKD=X', 'NZD=X', 'SEK=X', 'KRW=X', 'SGD=X', 'NOK=X', 'MXN=X', 'INR=X', 'RUB=X', 'ZAR=X', 'TRY=X', 'BRL=X', 'TWD=X']\n",
        "\n",
        "\n",
        "assets = [energy, financials, materials, comms, conscycl, consdef, health, industrials, realestate, tech, utilities]\n",
        "\n"
      ],
      "metadata": {
        "id": "DRoRZhVyRKhV"
      },
      "execution_count": null,
      "outputs": []
    },
    {
      "cell_type": "code",
      "source": [
        "def get_variable_name(variable):\n",
        "    globals_dict = globals()\n",
        "\n",
        "    return [var_name for var_name in globals_dict if globals_dict[var_name] is variable]\n",
        "\n",
        "def getstockdata(assetlist):\n",
        "  for sector in assetlist:\n",
        "    sectorname = get_variable_name(sector)[0]\n",
        "    for stock in sector[:5]:\n",
        "      df = yf.download(tickers = stock, start=\"2018-01-01\", end=\"2022-12-31\", interval = '1d', group_by='ticker', threads=True)\n",
        "      df.drop(columns=[lst for lst in df.columns if \"Volume\" in lst or (\"Close\" in lst and not \"Adj Close\" in lst)], inplace=True)\n",
        "      df.to_csv('/content/' + str(sectorname) + '/' + str(stock) + '.csv')\n",
        "    \n",
        "getstockdata(assets)"
      ],
      "metadata": {
        "colab": {
          "base_uri": "https://localhost:8080/"
        },
        "id": "ydW0mt-BjYo5",
        "outputId": "d187af05-adbf-435b-922b-09962f123a27"
      },
      "execution_count": null,
      "outputs": [
        {
          "output_type": "stream",
          "name": "stdout",
          "text": [
            "[*********************100%***********************]  1 of 1 completed\n",
            "[*********************100%***********************]  1 of 1 completed\n",
            "[*********************100%***********************]  1 of 1 completed\n",
            "[*********************100%***********************]  1 of 1 completed\n",
            "[*********************100%***********************]  1 of 1 completed\n",
            "[*********************100%***********************]  1 of 1 completed\n",
            "[*********************100%***********************]  1 of 1 completed\n",
            "[*********************100%***********************]  1 of 1 completed\n",
            "[*********************100%***********************]  1 of 1 completed\n",
            "[*********************100%***********************]  1 of 1 completed\n",
            "[*********************100%***********************]  1 of 1 completed\n",
            "[*********************100%***********************]  1 of 1 completed\n",
            "[*********************100%***********************]  1 of 1 completed\n",
            "[*********************100%***********************]  1 of 1 completed\n",
            "[*********************100%***********************]  1 of 1 completed\n",
            "[*********************100%***********************]  1 of 1 completed\n",
            "[*********************100%***********************]  1 of 1 completed\n",
            "[*********************100%***********************]  1 of 1 completed\n",
            "[*********************100%***********************]  1 of 1 completed\n",
            "[*********************100%***********************]  1 of 1 completed\n",
            "[*********************100%***********************]  1 of 1 completed\n",
            "[*********************100%***********************]  1 of 1 completed\n",
            "[*********************100%***********************]  1 of 1 completed\n",
            "[*********************100%***********************]  1 of 1 completed\n",
            "[*********************100%***********************]  1 of 1 completed\n",
            "[*********************100%***********************]  1 of 1 completed\n",
            "[*********************100%***********************]  1 of 1 completed\n",
            "[*********************100%***********************]  1 of 1 completed\n",
            "[*********************100%***********************]  1 of 1 completed\n",
            "[*********************100%***********************]  1 of 1 completed\n",
            "[*********************100%***********************]  1 of 1 completed\n",
            "[*********************100%***********************]  1 of 1 completed\n",
            "[*********************100%***********************]  1 of 1 completed\n",
            "[*********************100%***********************]  1 of 1 completed\n",
            "[*********************100%***********************]  1 of 1 completed\n",
            "[*********************100%***********************]  1 of 1 completed\n",
            "[*********************100%***********************]  1 of 1 completed\n",
            "[*********************100%***********************]  1 of 1 completed\n",
            "[*********************100%***********************]  1 of 1 completed\n",
            "[*********************100%***********************]  1 of 1 completed\n",
            "[*********************100%***********************]  1 of 1 completed\n",
            "[*********************100%***********************]  1 of 1 completed\n",
            "[*********************100%***********************]  1 of 1 completed\n",
            "[*********************100%***********************]  1 of 1 completed\n",
            "[*********************100%***********************]  1 of 1 completed\n",
            "[*********************100%***********************]  1 of 1 completed\n",
            "[*********************100%***********************]  1 of 1 completed\n",
            "[*********************100%***********************]  1 of 1 completed\n",
            "[*********************100%***********************]  1 of 1 completed\n",
            "[*********************100%***********************]  1 of 1 completed\n"
          ]
        }
      ]
    },
    {
      "cell_type": "code",
      "source": [
        "!zip -r /content/materials.zip /content/materials\n",
        "!zip -r /content/realestate.zip /content/realestate\n",
        "!zip -r /content/tech.zip /content/tech\n",
        "!zip -r /content/utilities.zip /content/utilities\n",
        "    \n",
        "files.download('materials.zip')\n",
        "files.download('realestate.zip')\n",
        "files.download('tech.zip')\n",
        "files.download('utilities.zip')\n",
        "\n",
        "#assets = [energy, financials, materials, comms, conscycl, consdef, health, industrials, realestate, tech, utilities, cryptos, forex]"
      ],
      "metadata": {
        "colab": {
          "base_uri": "https://localhost:8080/",
          "height": 446
        },
        "id": "o-UkFcX95p4Y",
        "outputId": "a390ea18-e9df-473c-d92d-21b39a27d5a0"
      },
      "execution_count": null,
      "outputs": [
        {
          "output_type": "stream",
          "name": "stdout",
          "text": [
            "  adding: content/materials/ (stored 0%)\n",
            "  adding: content/materials/BHP.csv (deflated 72%)\n",
            "  adding: content/materials/APD.csv (deflated 78%)\n",
            "  adding: content/materials/LIN.csv (deflated 78%)\n",
            "  adding: content/materials/VALE.csv (deflated 80%)\n",
            "  adding: content/materials/RIO.csv (deflated 78%)\n",
            "  adding: content/realestate/ (stored 0%)\n",
            "  adding: content/realestate/PSA.csv (deflated 78%)\n",
            "  adding: content/realestate/EQIX.csv (deflated 77%)\n",
            "  adding: content/realestate/CCI.csv (deflated 78%)\n",
            "  adding: content/realestate/AMT.csv (deflated 78%)\n",
            "  adding: content/realestate/PLD.csv (deflated 78%)\n",
            "  adding: content/tech/ (stored 0%)\n",
            "  adding: content/tech/NVDA.csv (deflated 75%)\n",
            "  adding: content/tech/TSM.csv (deflated 78%)\n",
            "  adding: content/tech/ASML.csv (deflated 77%)\n",
            "  adding: content/tech/MSFT.csv (deflated 78%)\n",
            "  adding: content/tech/AAPL.csv (deflated 77%)\n",
            "  adding: content/utilities/ (stored 0%)\n",
            "  adding: content/utilities/DUK.csv (deflated 78%)\n",
            "  adding: content/utilities/D.csv (deflated 78%)\n",
            "  adding: content/utilities/NEE.csv (deflated 77%)\n",
            "  adding: content/utilities/SRE.csv (deflated 78%)\n",
            "  adding: content/utilities/SO.csv (deflated 79%)\n"
          ]
        },
        {
          "output_type": "display_data",
          "data": {
            "text/plain": [
              "<IPython.core.display.Javascript object>"
            ],
            "application/javascript": [
              "\n",
              "    async function download(id, filename, size) {\n",
              "      if (!google.colab.kernel.accessAllowed) {\n",
              "        return;\n",
              "      }\n",
              "      const div = document.createElement('div');\n",
              "      const label = document.createElement('label');\n",
              "      label.textContent = `Downloading \"${filename}\": `;\n",
              "      div.appendChild(label);\n",
              "      const progress = document.createElement('progress');\n",
              "      progress.max = size;\n",
              "      div.appendChild(progress);\n",
              "      document.body.appendChild(div);\n",
              "\n",
              "      const buffers = [];\n",
              "      let downloaded = 0;\n",
              "\n",
              "      const channel = await google.colab.kernel.comms.open(id);\n",
              "      // Send a message to notify the kernel that we're ready.\n",
              "      channel.send({})\n",
              "\n",
              "      for await (const message of channel.messages) {\n",
              "        // Send a message to notify the kernel that we're ready.\n",
              "        channel.send({})\n",
              "        if (message.buffers) {\n",
              "          for (const buffer of message.buffers) {\n",
              "            buffers.push(buffer);\n",
              "            downloaded += buffer.byteLength;\n",
              "            progress.value = downloaded;\n",
              "          }\n",
              "        }\n",
              "      }\n",
              "      const blob = new Blob(buffers, {type: 'application/binary'});\n",
              "      const a = document.createElement('a');\n",
              "      a.href = window.URL.createObjectURL(blob);\n",
              "      a.download = filename;\n",
              "      div.appendChild(a);\n",
              "      a.click();\n",
              "      div.remove();\n",
              "    }\n",
              "  "
            ]
          },
          "metadata": {}
        },
        {
          "output_type": "display_data",
          "data": {
            "text/plain": [
              "<IPython.core.display.Javascript object>"
            ],
            "application/javascript": [
              "download(\"download_f5538148-a9db-4902-8db7-fef7fd3dd797\", \"materials.zip\", 140590)"
            ]
          },
          "metadata": {}
        },
        {
          "output_type": "display_data",
          "data": {
            "text/plain": [
              "<IPython.core.display.Javascript object>"
            ],
            "application/javascript": [
              "\n",
              "    async function download(id, filename, size) {\n",
              "      if (!google.colab.kernel.accessAllowed) {\n",
              "        return;\n",
              "      }\n",
              "      const div = document.createElement('div');\n",
              "      const label = document.createElement('label');\n",
              "      label.textContent = `Downloading \"${filename}\": `;\n",
              "      div.appendChild(label);\n",
              "      const progress = document.createElement('progress');\n",
              "      progress.max = size;\n",
              "      div.appendChild(progress);\n",
              "      document.body.appendChild(div);\n",
              "\n",
              "      const buffers = [];\n",
              "      let downloaded = 0;\n",
              "\n",
              "      const channel = await google.colab.kernel.comms.open(id);\n",
              "      // Send a message to notify the kernel that we're ready.\n",
              "      channel.send({})\n",
              "\n",
              "      for await (const message of channel.messages) {\n",
              "        // Send a message to notify the kernel that we're ready.\n",
              "        channel.send({})\n",
              "        if (message.buffers) {\n",
              "          for (const buffer of message.buffers) {\n",
              "            buffers.push(buffer);\n",
              "            downloaded += buffer.byteLength;\n",
              "            progress.value = downloaded;\n",
              "          }\n",
              "        }\n",
              "      }\n",
              "      const blob = new Blob(buffers, {type: 'application/binary'});\n",
              "      const a = document.createElement('a');\n",
              "      a.href = window.URL.createObjectURL(blob);\n",
              "      a.download = filename;\n",
              "      div.appendChild(a);\n",
              "      a.click();\n",
              "      div.remove();\n",
              "    }\n",
              "  "
            ]
          },
          "metadata": {}
        },
        {
          "output_type": "display_data",
          "data": {
            "text/plain": [
              "<IPython.core.display.Javascript object>"
            ],
            "application/javascript": [
              "download(\"download_22e7e34b-200b-4c30-b2d4-ca103c2bfde2\", \"realestate.zip\", 136734)"
            ]
          },
          "metadata": {}
        },
        {
          "output_type": "display_data",
          "data": {
            "text/plain": [
              "<IPython.core.display.Javascript object>"
            ],
            "application/javascript": [
              "\n",
              "    async function download(id, filename, size) {\n",
              "      if (!google.colab.kernel.accessAllowed) {\n",
              "        return;\n",
              "      }\n",
              "      const div = document.createElement('div');\n",
              "      const label = document.createElement('label');\n",
              "      label.textContent = `Downloading \"${filename}\": `;\n",
              "      div.appendChild(label);\n",
              "      const progress = document.createElement('progress');\n",
              "      progress.max = size;\n",
              "      div.appendChild(progress);\n",
              "      document.body.appendChild(div);\n",
              "\n",
              "      const buffers = [];\n",
              "      let downloaded = 0;\n",
              "\n",
              "      const channel = await google.colab.kernel.comms.open(id);\n",
              "      // Send a message to notify the kernel that we're ready.\n",
              "      channel.send({})\n",
              "\n",
              "      for await (const message of channel.messages) {\n",
              "        // Send a message to notify the kernel that we're ready.\n",
              "        channel.send({})\n",
              "        if (message.buffers) {\n",
              "          for (const buffer of message.buffers) {\n",
              "            buffers.push(buffer);\n",
              "            downloaded += buffer.byteLength;\n",
              "            progress.value = downloaded;\n",
              "          }\n",
              "        }\n",
              "      }\n",
              "      const blob = new Blob(buffers, {type: 'application/binary'});\n",
              "      const a = document.createElement('a');\n",
              "      a.href = window.URL.createObjectURL(blob);\n",
              "      a.download = filename;\n",
              "      div.appendChild(a);\n",
              "      a.click();\n",
              "      div.remove();\n",
              "    }\n",
              "  "
            ]
          },
          "metadata": {}
        },
        {
          "output_type": "display_data",
          "data": {
            "text/plain": [
              "<IPython.core.display.Javascript object>"
            ],
            "application/javascript": [
              "download(\"download_95c38e56-8b04-4df6-93b9-511d6855eecf\", \"tech.zip\", 141678)"
            ]
          },
          "metadata": {}
        },
        {
          "output_type": "display_data",
          "data": {
            "text/plain": [
              "<IPython.core.display.Javascript object>"
            ],
            "application/javascript": [
              "\n",
              "    async function download(id, filename, size) {\n",
              "      if (!google.colab.kernel.accessAllowed) {\n",
              "        return;\n",
              "      }\n",
              "      const div = document.createElement('div');\n",
              "      const label = document.createElement('label');\n",
              "      label.textContent = `Downloading \"${filename}\": `;\n",
              "      div.appendChild(label);\n",
              "      const progress = document.createElement('progress');\n",
              "      progress.max = size;\n",
              "      div.appendChild(progress);\n",
              "      document.body.appendChild(div);\n",
              "\n",
              "      const buffers = [];\n",
              "      let downloaded = 0;\n",
              "\n",
              "      const channel = await google.colab.kernel.comms.open(id);\n",
              "      // Send a message to notify the kernel that we're ready.\n",
              "      channel.send({})\n",
              "\n",
              "      for await (const message of channel.messages) {\n",
              "        // Send a message to notify the kernel that we're ready.\n",
              "        channel.send({})\n",
              "        if (message.buffers) {\n",
              "          for (const buffer of message.buffers) {\n",
              "            buffers.push(buffer);\n",
              "            downloaded += buffer.byteLength;\n",
              "            progress.value = downloaded;\n",
              "          }\n",
              "        }\n",
              "      }\n",
              "      const blob = new Blob(buffers, {type: 'application/binary'});\n",
              "      const a = document.createElement('a');\n",
              "      a.href = window.URL.createObjectURL(blob);\n",
              "      a.download = filename;\n",
              "      div.appendChild(a);\n",
              "      a.click();\n",
              "      div.remove();\n",
              "    }\n",
              "  "
            ]
          },
          "metadata": {}
        },
        {
          "output_type": "display_data",
          "data": {
            "text/plain": [
              "<IPython.core.display.Javascript object>"
            ],
            "application/javascript": [
              "download(\"download_f15a87f1-bde8-4704-8e1f-e700820945cd\", \"utilities.zip\", 133261)"
            ]
          },
          "metadata": {}
        }
      ]
    },
    {
      "cell_type": "markdown",
      "source": [],
      "metadata": {
        "id": "joYlaJ7ERvg9"
      }
    }
  ]
}